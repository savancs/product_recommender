{
  "nbformat": 4,
  "nbformat_minor": 0,
  "metadata": {
    "colab": {
      "provenance": [],
      "authorship_tag": "ABX9TyNbh7eOoDzD5fVFM6yG+gEs",
      "include_colab_link": true
    },
    "kernelspec": {
      "name": "python3",
      "display_name": "Python 3"
    },
    "language_info": {
      "name": "python"
    }
  },
  "cells": [
    {
      "cell_type": "markdown",
      "metadata": {
        "id": "view-in-github",
        "colab_type": "text"
      },
      "source": [
        "<a href=\"https://colab.research.google.com/github/savancs/product_recommender/blob/numa_branch/product_recommender.ipynb\" target=\"_parent\"><img src=\"https://colab.research.google.com/assets/colab-badge.svg\" alt=\"Open In Colab\"/></a>"
      ]
    },
    {
      "cell_type": "code",
      "source": [
        "pip install opencv-python"
      ],
      "metadata": {
        "colab": {
          "base_uri": "https://localhost:8080/"
        },
        "id": "iLhkd3ekSfdc",
        "outputId": "e06d00dd-b2eb-4bc5-9e05-09143469cedf"
      },
      "execution_count": 1,
      "outputs": [
        {
          "output_type": "stream",
          "name": "stdout",
          "text": [
            "Requirement already satisfied: opencv-python in /usr/local/lib/python3.10/dist-packages (4.8.0.76)\n",
            "Requirement already satisfied: numpy>=1.21.2 in /usr/local/lib/python3.10/dist-packages (from opencv-python) (1.23.5)\n"
          ]
        }
      ]
    },
    {
      "cell_type": "code",
      "source": [
        "pip install pytesseract"
      ],
      "metadata": {
        "colab": {
          "base_uri": "https://localhost:8080/"
        },
        "id": "OjkOPOqRSlsG",
        "outputId": "e4e96c39-8257-4d4b-d3df-7adf2044df43"
      },
      "execution_count": 1,
      "outputs": [
        {
          "output_type": "stream",
          "name": "stdout",
          "text": [
            "Collecting pytesseract\n",
            "  Downloading pytesseract-0.3.10-py3-none-any.whl (14 kB)\n",
            "Requirement already satisfied: packaging>=21.3 in /usr/local/lib/python3.10/dist-packages (from pytesseract) (23.2)\n",
            "Requirement already satisfied: Pillow>=8.0.0 in /usr/local/lib/python3.10/dist-packages (from pytesseract) (9.4.0)\n",
            "\u001b[31mERROR: Operation cancelled by user\u001b[0m\u001b[31m\n",
            "\u001b[0m"
          ]
        }
      ]
    },
    {
      "cell_type": "code",
      "source": [
        "import cv2\n",
        "import torch"
      ],
      "metadata": {
        "id": "-ux7YTAvSl8Q"
      },
      "execution_count": null,
      "outputs": []
    },
    {
      "cell_type": "code",
      "execution_count": 2,
      "metadata": {
        "id": "57vTJfKIOoi3"
      },
      "outputs": [],
      "source": [
        "import numpy as np\n",
        "import pandas as pd"
      ]
    },
    {
      "cell_type": "code",
      "source": [
        "sephora_data = 'https://raw.githubusercontent.com/jjone36/Cosmetic/master/data/cosmetic.csv'\n",
        "sephora_df = pd.read_csv(sephora_data)"
      ],
      "metadata": {
        "id": "7JImn3qoStW-"
      },
      "execution_count": 5,
      "outputs": []
    },
    {
      "cell_type": "code",
      "source": [
        "sephora_df.head(300)"
      ],
      "metadata": {
        "colab": {
          "base_uri": "https://localhost:8080/",
          "height": 649
        },
        "id": "mf0FlzvJTE7V",
        "outputId": "b9f94792-baf0-4f53-e7de-34ac9f0200ed"
      },
      "execution_count": 7,
      "outputs": [
        {
          "output_type": "execute_result",
          "data": {
            "text/plain": [
              "                             Label  \\\n",
              "0    moisturizing-cream-oils-mists   \n",
              "1    moisturizing-cream-oils-mists   \n",
              "2    moisturizing-cream-oils-mists   \n",
              "3    moisturizing-cream-oils-mists   \n",
              "4    moisturizing-cream-oils-mists   \n",
              "..                             ...   \n",
              "295  moisturizing-cream-oils-mists   \n",
              "296  moisturizing-cream-oils-mists   \n",
              "297  moisturizing-cream-oils-mists   \n",
              "298  moisturizing-cream-oils-mists   \n",
              "299  moisturizing-cream-oils-mists   \n",
              "\n",
              "                                                   URL            brand  \\\n",
              "0    https://www.sephora.com/product/creme-de-la-me...           LA MER   \n",
              "1    https://www.sephora.com/product/facial-treatme...            SK-II   \n",
              "2    https://www.sephora.com/product/protini-tm-pol...   DRUNK ELEPHANT   \n",
              "3    https://www.sephora.com/product/the-moisturizi...           LA MER   \n",
              "4    https://www.sephora.com/product/your-skin-but-...     IT COSMETICS   \n",
              "..                                                 ...              ...   \n",
              "295  https://www.sephora.com/product/the-moisturizi...           LA MER   \n",
              "296  https://www.sephora.com/product/jasmine-green-...        HERBIVORE   \n",
              "297  https://www.sephora.com/product/super-restorat...          CLARINS   \n",
              "298  https://www.sephora.com/product/goat-milk-mois...  KATE SOMERVILLE   \n",
              "299  https://www.sephora.com/product/face-hero-P432...            GO-TO   \n",
              "\n",
              "                                                  name  \\\n",
              "0                                      Crème de la Mer   \n",
              "1                             Facial Treatment Essence   \n",
              "2                           Protini™ Polypeptide Cream   \n",
              "3                          The Moisturizing Soft Cream   \n",
              "4        Your Skin But Better™ CC+™ Cream with SPF 50+   \n",
              "..                                                 ...   \n",
              "295                      The Moisturizing Matte Lotion   \n",
              "296                  Jasmine Green Tea Balancing Toner   \n",
              "297  Super Restorative Night Age Spot Correcting Re...   \n",
              "298                       Goat Milk Moisturizing Cream   \n",
              "299                                          Face Hero   \n",
              "\n",
              "                        price  rank  \\\n",
              "0                     $175.00   4.1   \n",
              "1    $179.00\\n($214.00 value)   4.1   \n",
              "2                      $68.00   4.4   \n",
              "3                     $175.00   3.8   \n",
              "4                      $38.00   4.1   \n",
              "..                        ...   ...   \n",
              "295                   $270.00   3.9   \n",
              "296                    $39.00   4.2   \n",
              "297                   $136.00   4.5   \n",
              "298                    $65.00   4.1   \n",
              "299                    $34.00   4.8   \n",
              "\n",
              "                                             skin_type  \\\n",
              "0    ['✔ Normal\\n', '✔ Oily\\n', '✔ Combination\\n', ...   \n",
              "1    ['✔ Normal\\n', '✔ Oily\\n', '✔ Combination\\n', ...   \n",
              "2    ['✔ Normal\\n', '✔ Oily\\n', '✔ Combination\\n', ...   \n",
              "3    ['✔ Normal\\n', '✔ Oily\\n', '✔ Combination\\n', ...   \n",
              "4    ['✔ Full\\n', '✔ Sensitive\\n', '✔ Normal\\n', '✔...   \n",
              "..                                                 ...   \n",
              "295                         ['✔ Normal\\n', '✔ Oily\\n']   \n",
              "296   ['✔ Oily\\n', '✔ Combination\\n', '✔ Sensitive\\n']   \n",
              "297                                                 []   \n",
              "298  ['✔ Normal\\n', '✔ Oily\\n', '✔ Combination\\n', ...   \n",
              "299  ['✔ Normal\\n', '✔ Oily\\n', '✔ Combination\\n', ...   \n",
              "\n",
              "                                           ingredients  \n",
              "0    Algae (Seaweed) Extract, Mineral Oil, Petrolat...  \n",
              "1    -Pitera™: A bio-ingredient rich in vitamins, o...  \n",
              "2    -9 Signal Peptide Complex \\n-Pygmy Waterlily S...  \n",
              "3    Algae (Seaweed) Extract, Cyclopentasiloxane, P...  \n",
              "4    -Collagen: Supports skin elasticity for a yout...  \n",
              "..                                                 ...  \n",
              "295  Water, Algae (Seaweed) Extract, Propanediol, S...  \n",
              "296  -Green Tea: Reduces oiliness; packed with anti...  \n",
              "297  -Organic Montpellier Rock-Rose: Targets the so...  \n",
              "298  -Lactose from Goat’s Milk: Soothes and moistur...  \n",
              "299  -Buriti Oil: A hydrating and moisturizing oil ...  \n",
              "\n",
              "[300 rows x 8 columns]"
            ],
            "text/html": [
              "\n",
              "  <div id=\"df-ce7a384c-8b06-4a68-8cb1-dbdc19795df9\" class=\"colab-df-container\">\n",
              "    <div>\n",
              "<style scoped>\n",
              "    .dataframe tbody tr th:only-of-type {\n",
              "        vertical-align: middle;\n",
              "    }\n",
              "\n",
              "    .dataframe tbody tr th {\n",
              "        vertical-align: top;\n",
              "    }\n",
              "\n",
              "    .dataframe thead th {\n",
              "        text-align: right;\n",
              "    }\n",
              "</style>\n",
              "<table border=\"1\" class=\"dataframe\">\n",
              "  <thead>\n",
              "    <tr style=\"text-align: right;\">\n",
              "      <th></th>\n",
              "      <th>Label</th>\n",
              "      <th>URL</th>\n",
              "      <th>brand</th>\n",
              "      <th>name</th>\n",
              "      <th>price</th>\n",
              "      <th>rank</th>\n",
              "      <th>skin_type</th>\n",
              "      <th>ingredients</th>\n",
              "    </tr>\n",
              "  </thead>\n",
              "  <tbody>\n",
              "    <tr>\n",
              "      <th>0</th>\n",
              "      <td>moisturizing-cream-oils-mists</td>\n",
              "      <td>https://www.sephora.com/product/creme-de-la-me...</td>\n",
              "      <td>LA MER</td>\n",
              "      <td>Crème de la Mer</td>\n",
              "      <td>$175.00</td>\n",
              "      <td>4.1</td>\n",
              "      <td>['✔ Normal\\n', '✔ Oily\\n', '✔ Combination\\n', ...</td>\n",
              "      <td>Algae (Seaweed) Extract, Mineral Oil, Petrolat...</td>\n",
              "    </tr>\n",
              "    <tr>\n",
              "      <th>1</th>\n",
              "      <td>moisturizing-cream-oils-mists</td>\n",
              "      <td>https://www.sephora.com/product/facial-treatme...</td>\n",
              "      <td>SK-II</td>\n",
              "      <td>Facial Treatment Essence</td>\n",
              "      <td>$179.00\\n($214.00 value)</td>\n",
              "      <td>4.1</td>\n",
              "      <td>['✔ Normal\\n', '✔ Oily\\n', '✔ Combination\\n', ...</td>\n",
              "      <td>-Pitera™: A bio-ingredient rich in vitamins, o...</td>\n",
              "    </tr>\n",
              "    <tr>\n",
              "      <th>2</th>\n",
              "      <td>moisturizing-cream-oils-mists</td>\n",
              "      <td>https://www.sephora.com/product/protini-tm-pol...</td>\n",
              "      <td>DRUNK ELEPHANT</td>\n",
              "      <td>Protini™ Polypeptide Cream</td>\n",
              "      <td>$68.00</td>\n",
              "      <td>4.4</td>\n",
              "      <td>['✔ Normal\\n', '✔ Oily\\n', '✔ Combination\\n', ...</td>\n",
              "      <td>-9 Signal Peptide Complex \\n-Pygmy Waterlily S...</td>\n",
              "    </tr>\n",
              "    <tr>\n",
              "      <th>3</th>\n",
              "      <td>moisturizing-cream-oils-mists</td>\n",
              "      <td>https://www.sephora.com/product/the-moisturizi...</td>\n",
              "      <td>LA MER</td>\n",
              "      <td>The Moisturizing Soft Cream</td>\n",
              "      <td>$175.00</td>\n",
              "      <td>3.8</td>\n",
              "      <td>['✔ Normal\\n', '✔ Oily\\n', '✔ Combination\\n', ...</td>\n",
              "      <td>Algae (Seaweed) Extract, Cyclopentasiloxane, P...</td>\n",
              "    </tr>\n",
              "    <tr>\n",
              "      <th>4</th>\n",
              "      <td>moisturizing-cream-oils-mists</td>\n",
              "      <td>https://www.sephora.com/product/your-skin-but-...</td>\n",
              "      <td>IT COSMETICS</td>\n",
              "      <td>Your Skin But Better™ CC+™ Cream with SPF 50+</td>\n",
              "      <td>$38.00</td>\n",
              "      <td>4.1</td>\n",
              "      <td>['✔ Full\\n', '✔ Sensitive\\n', '✔ Normal\\n', '✔...</td>\n",
              "      <td>-Collagen: Supports skin elasticity for a yout...</td>\n",
              "    </tr>\n",
              "    <tr>\n",
              "      <th>...</th>\n",
              "      <td>...</td>\n",
              "      <td>...</td>\n",
              "      <td>...</td>\n",
              "      <td>...</td>\n",
              "      <td>...</td>\n",
              "      <td>...</td>\n",
              "      <td>...</td>\n",
              "      <td>...</td>\n",
              "    </tr>\n",
              "    <tr>\n",
              "      <th>295</th>\n",
              "      <td>moisturizing-cream-oils-mists</td>\n",
              "      <td>https://www.sephora.com/product/the-moisturizi...</td>\n",
              "      <td>LA MER</td>\n",
              "      <td>The Moisturizing Matte Lotion</td>\n",
              "      <td>$270.00</td>\n",
              "      <td>3.9</td>\n",
              "      <td>['✔ Normal\\n', '✔ Oily\\n']</td>\n",
              "      <td>Water, Algae (Seaweed) Extract, Propanediol, S...</td>\n",
              "    </tr>\n",
              "    <tr>\n",
              "      <th>296</th>\n",
              "      <td>moisturizing-cream-oils-mists</td>\n",
              "      <td>https://www.sephora.com/product/jasmine-green-...</td>\n",
              "      <td>HERBIVORE</td>\n",
              "      <td>Jasmine Green Tea Balancing Toner</td>\n",
              "      <td>$39.00</td>\n",
              "      <td>4.2</td>\n",
              "      <td>['✔ Oily\\n', '✔ Combination\\n', '✔ Sensitive\\n']</td>\n",
              "      <td>-Green Tea: Reduces oiliness; packed with anti...</td>\n",
              "    </tr>\n",
              "    <tr>\n",
              "      <th>297</th>\n",
              "      <td>moisturizing-cream-oils-mists</td>\n",
              "      <td>https://www.sephora.com/product/super-restorat...</td>\n",
              "      <td>CLARINS</td>\n",
              "      <td>Super Restorative Night Age Spot Correcting Re...</td>\n",
              "      <td>$136.00</td>\n",
              "      <td>4.5</td>\n",
              "      <td>[]</td>\n",
              "      <td>-Organic Montpellier Rock-Rose: Targets the so...</td>\n",
              "    </tr>\n",
              "    <tr>\n",
              "      <th>298</th>\n",
              "      <td>moisturizing-cream-oils-mists</td>\n",
              "      <td>https://www.sephora.com/product/goat-milk-mois...</td>\n",
              "      <td>KATE SOMERVILLE</td>\n",
              "      <td>Goat Milk Moisturizing Cream</td>\n",
              "      <td>$65.00</td>\n",
              "      <td>4.1</td>\n",
              "      <td>['✔ Normal\\n', '✔ Oily\\n', '✔ Combination\\n', ...</td>\n",
              "      <td>-Lactose from Goat’s Milk: Soothes and moistur...</td>\n",
              "    </tr>\n",
              "    <tr>\n",
              "      <th>299</th>\n",
              "      <td>moisturizing-cream-oils-mists</td>\n",
              "      <td>https://www.sephora.com/product/face-hero-P432...</td>\n",
              "      <td>GO-TO</td>\n",
              "      <td>Face Hero</td>\n",
              "      <td>$34.00</td>\n",
              "      <td>4.8</td>\n",
              "      <td>['✔ Normal\\n', '✔ Oily\\n', '✔ Combination\\n', ...</td>\n",
              "      <td>-Buriti Oil: A hydrating and moisturizing oil ...</td>\n",
              "    </tr>\n",
              "  </tbody>\n",
              "</table>\n",
              "<p>300 rows × 8 columns</p>\n",
              "</div>\n",
              "    <div class=\"colab-df-buttons\">\n",
              "\n",
              "  <div class=\"colab-df-container\">\n",
              "    <button class=\"colab-df-convert\" onclick=\"convertToInteractive('df-ce7a384c-8b06-4a68-8cb1-dbdc19795df9')\"\n",
              "            title=\"Convert this dataframe to an interactive table.\"\n",
              "            style=\"display:none;\">\n",
              "\n",
              "  <svg xmlns=\"http://www.w3.org/2000/svg\" height=\"24px\" viewBox=\"0 -960 960 960\">\n",
              "    <path d=\"M120-120v-720h720v720H120Zm60-500h600v-160H180v160Zm220 220h160v-160H400v160Zm0 220h160v-160H400v160ZM180-400h160v-160H180v160Zm440 0h160v-160H620v160ZM180-180h160v-160H180v160Zm440 0h160v-160H620v160Z\"/>\n",
              "  </svg>\n",
              "    </button>\n",
              "\n",
              "  <style>\n",
              "    .colab-df-container {\n",
              "      display:flex;\n",
              "      gap: 12px;\n",
              "    }\n",
              "\n",
              "    .colab-df-convert {\n",
              "      background-color: #E8F0FE;\n",
              "      border: none;\n",
              "      border-radius: 50%;\n",
              "      cursor: pointer;\n",
              "      display: none;\n",
              "      fill: #1967D2;\n",
              "      height: 32px;\n",
              "      padding: 0 0 0 0;\n",
              "      width: 32px;\n",
              "    }\n",
              "\n",
              "    .colab-df-convert:hover {\n",
              "      background-color: #E2EBFA;\n",
              "      box-shadow: 0px 1px 2px rgba(60, 64, 67, 0.3), 0px 1px 3px 1px rgba(60, 64, 67, 0.15);\n",
              "      fill: #174EA6;\n",
              "    }\n",
              "\n",
              "    .colab-df-buttons div {\n",
              "      margin-bottom: 4px;\n",
              "    }\n",
              "\n",
              "    [theme=dark] .colab-df-convert {\n",
              "      background-color: #3B4455;\n",
              "      fill: #D2E3FC;\n",
              "    }\n",
              "\n",
              "    [theme=dark] .colab-df-convert:hover {\n",
              "      background-color: #434B5C;\n",
              "      box-shadow: 0px 1px 3px 1px rgba(0, 0, 0, 0.15);\n",
              "      filter: drop-shadow(0px 1px 2px rgba(0, 0, 0, 0.3));\n",
              "      fill: #FFFFFF;\n",
              "    }\n",
              "  </style>\n",
              "\n",
              "    <script>\n",
              "      const buttonEl =\n",
              "        document.querySelector('#df-ce7a384c-8b06-4a68-8cb1-dbdc19795df9 button.colab-df-convert');\n",
              "      buttonEl.style.display =\n",
              "        google.colab.kernel.accessAllowed ? 'block' : 'none';\n",
              "\n",
              "      async function convertToInteractive(key) {\n",
              "        const element = document.querySelector('#df-ce7a384c-8b06-4a68-8cb1-dbdc19795df9');\n",
              "        const dataTable =\n",
              "          await google.colab.kernel.invokeFunction('convertToInteractive',\n",
              "                                                    [key], {});\n",
              "        if (!dataTable) return;\n",
              "\n",
              "        const docLinkHtml = 'Like what you see? Visit the ' +\n",
              "          '<a target=\"_blank\" href=https://colab.research.google.com/notebooks/data_table.ipynb>data table notebook</a>'\n",
              "          + ' to learn more about interactive tables.';\n",
              "        element.innerHTML = '';\n",
              "        dataTable['output_type'] = 'display_data';\n",
              "        await google.colab.output.renderOutput(dataTable, element);\n",
              "        const docLink = document.createElement('div');\n",
              "        docLink.innerHTML = docLinkHtml;\n",
              "        element.appendChild(docLink);\n",
              "      }\n",
              "    </script>\n",
              "  </div>\n",
              "\n",
              "\n",
              "<div id=\"df-2cfc7432-db0d-4dfa-b574-c530db1e4e56\">\n",
              "  <button class=\"colab-df-quickchart\" onclick=\"quickchart('df-2cfc7432-db0d-4dfa-b574-c530db1e4e56')\"\n",
              "            title=\"Suggest charts\"\n",
              "            style=\"display:none;\">\n",
              "\n",
              "<svg xmlns=\"http://www.w3.org/2000/svg\" height=\"24px\"viewBox=\"0 0 24 24\"\n",
              "     width=\"24px\">\n",
              "    <g>\n",
              "        <path d=\"M19 3H5c-1.1 0-2 .9-2 2v14c0 1.1.9 2 2 2h14c1.1 0 2-.9 2-2V5c0-1.1-.9-2-2-2zM9 17H7v-7h2v7zm4 0h-2V7h2v10zm4 0h-2v-4h2v4z\"/>\n",
              "    </g>\n",
              "</svg>\n",
              "  </button>\n",
              "\n",
              "<style>\n",
              "  .colab-df-quickchart {\n",
              "      --bg-color: #E8F0FE;\n",
              "      --fill-color: #1967D2;\n",
              "      --hover-bg-color: #E2EBFA;\n",
              "      --hover-fill-color: #174EA6;\n",
              "      --disabled-fill-color: #AAA;\n",
              "      --disabled-bg-color: #DDD;\n",
              "  }\n",
              "\n",
              "  [theme=dark] .colab-df-quickchart {\n",
              "      --bg-color: #3B4455;\n",
              "      --fill-color: #D2E3FC;\n",
              "      --hover-bg-color: #434B5C;\n",
              "      --hover-fill-color: #FFFFFF;\n",
              "      --disabled-bg-color: #3B4455;\n",
              "      --disabled-fill-color: #666;\n",
              "  }\n",
              "\n",
              "  .colab-df-quickchart {\n",
              "    background-color: var(--bg-color);\n",
              "    border: none;\n",
              "    border-radius: 50%;\n",
              "    cursor: pointer;\n",
              "    display: none;\n",
              "    fill: var(--fill-color);\n",
              "    height: 32px;\n",
              "    padding: 0;\n",
              "    width: 32px;\n",
              "  }\n",
              "\n",
              "  .colab-df-quickchart:hover {\n",
              "    background-color: var(--hover-bg-color);\n",
              "    box-shadow: 0 1px 2px rgba(60, 64, 67, 0.3), 0 1px 3px 1px rgba(60, 64, 67, 0.15);\n",
              "    fill: var(--button-hover-fill-color);\n",
              "  }\n",
              "\n",
              "  .colab-df-quickchart-complete:disabled,\n",
              "  .colab-df-quickchart-complete:disabled:hover {\n",
              "    background-color: var(--disabled-bg-color);\n",
              "    fill: var(--disabled-fill-color);\n",
              "    box-shadow: none;\n",
              "  }\n",
              "\n",
              "  .colab-df-spinner {\n",
              "    border: 2px solid var(--fill-color);\n",
              "    border-color: transparent;\n",
              "    border-bottom-color: var(--fill-color);\n",
              "    animation:\n",
              "      spin 1s steps(1) infinite;\n",
              "  }\n",
              "\n",
              "  @keyframes spin {\n",
              "    0% {\n",
              "      border-color: transparent;\n",
              "      border-bottom-color: var(--fill-color);\n",
              "      border-left-color: var(--fill-color);\n",
              "    }\n",
              "    20% {\n",
              "      border-color: transparent;\n",
              "      border-left-color: var(--fill-color);\n",
              "      border-top-color: var(--fill-color);\n",
              "    }\n",
              "    30% {\n",
              "      border-color: transparent;\n",
              "      border-left-color: var(--fill-color);\n",
              "      border-top-color: var(--fill-color);\n",
              "      border-right-color: var(--fill-color);\n",
              "    }\n",
              "    40% {\n",
              "      border-color: transparent;\n",
              "      border-right-color: var(--fill-color);\n",
              "      border-top-color: var(--fill-color);\n",
              "    }\n",
              "    60% {\n",
              "      border-color: transparent;\n",
              "      border-right-color: var(--fill-color);\n",
              "    }\n",
              "    80% {\n",
              "      border-color: transparent;\n",
              "      border-right-color: var(--fill-color);\n",
              "      border-bottom-color: var(--fill-color);\n",
              "    }\n",
              "    90% {\n",
              "      border-color: transparent;\n",
              "      border-bottom-color: var(--fill-color);\n",
              "    }\n",
              "  }\n",
              "</style>\n",
              "\n",
              "  <script>\n",
              "    async function quickchart(key) {\n",
              "      const quickchartButtonEl =\n",
              "        document.querySelector('#' + key + ' button');\n",
              "      quickchartButtonEl.disabled = true;  // To prevent multiple clicks.\n",
              "      quickchartButtonEl.classList.add('colab-df-spinner');\n",
              "      try {\n",
              "        const charts = await google.colab.kernel.invokeFunction(\n",
              "            'suggestCharts', [key], {});\n",
              "      } catch (error) {\n",
              "        console.error('Error during call to suggestCharts:', error);\n",
              "      }\n",
              "      quickchartButtonEl.classList.remove('colab-df-spinner');\n",
              "      quickchartButtonEl.classList.add('colab-df-quickchart-complete');\n",
              "    }\n",
              "    (() => {\n",
              "      let quickchartButtonEl =\n",
              "        document.querySelector('#df-2cfc7432-db0d-4dfa-b574-c530db1e4e56 button');\n",
              "      quickchartButtonEl.style.display =\n",
              "        google.colab.kernel.accessAllowed ? 'block' : 'none';\n",
              "    })();\n",
              "  </script>\n",
              "</div>\n",
              "    </div>\n",
              "  </div>\n"
            ]
          },
          "metadata": {},
          "execution_count": 7
        }
      ]
    },
    {
      "cell_type": "code",
      "source": [
        "sephora_df[\"Label\"].unique()"
      ],
      "metadata": {
        "colab": {
          "base_uri": "https://localhost:8080/"
        },
        "id": "X-VGbKBTTcQA",
        "outputId": "72f1022d-cc5b-4624-a08f-17ec3d00e3b9"
      },
      "execution_count": 10,
      "outputs": [
        {
          "output_type": "execute_result",
          "data": {
            "text/plain": [
              "array(['moisturizing-cream-oils-mists', 'cleanser', 'facial-treatments',\n",
              "       'face-mask', 'eye-treatment-dark-circle-treatment',\n",
              "       'sunscreen-sun-protection'], dtype=object)"
            ]
          },
          "metadata": {},
          "execution_count": 10
        }
      ]
    },
    {
      "cell_type": "code",
      "source": [
        "sephora_df[\"brand\"].unique()"
      ],
      "metadata": {
        "colab": {
          "base_uri": "https://localhost:8080/"
        },
        "id": "G0GcAr1ITvMR",
        "outputId": "f4967564-6627-4cbe-e249-750b65135f4b"
      },
      "execution_count": 11,
      "outputs": [
        {
          "output_type": "execute_result",
          "data": {
            "text/plain": [
              "array(['LA MER', 'SK-II', 'DRUNK ELEPHANT', 'IT COSMETICS', 'TATCHA',\n",
              "       \"KIEHL'S SINCE 1851\", 'FRESH', 'BELIF', 'SUNDAY RILEY', 'FARMACY',\n",
              "       'FIRST AID BEAUTY', 'CLINIQUE', 'BAREMINERALS', 'SHISEIDO',\n",
              "       'CHARLOTTE TILBURY', 'ORIGINS', 'OLEHENRIKSEN', 'JOSIE MARAN',\n",
              "       'FARSÁLI', 'LANEIGE', 'DR. JART+', 'GLOW RECIPE', 'HERBIVORE',\n",
              "       'TARTE', 'CAUDALIE', 'YOUTH TO THE PEOPLE', 'BIOSSANCE',\n",
              "       'ESTÉE LAUDER', 'SON & PARK', 'AMOREPACIFIC', 'BOBBI BROWN',\n",
              "       'ERBORIAN', 'SMASHBOX', 'GLAMGLOW', 'PETER THOMAS ROTH',\n",
              "       'JACK BLACK', 'PHILOSOPHY', 'PERRICONE MD', 'LANCÔME', 'ALGENIST',\n",
              "       'MAKE UP FOR EVER', 'KORRES', 'MURAD', 'GUERLAIN', 'DIOR',\n",
              "       'KORA ORGANICS', 'DR. DENNIS GROSS SKINCARE', 'REN CLEAN SKINCARE',\n",
              "       'KOPARI', 'CLARINS', 'NURSE JAMIE', 'LANCER', \"L'OCCITANE\",\n",
              "       'KATE SOMERVILLE', 'SUPERGOOP!', 'SATURDAY SKIN',\n",
              "       'SEPHORA COLLECTION', 'MILK MAKEUP', 'DR. BRANDT SKINCARE',\n",
              "       'J.ONE', 'KAT VON D', 'TATA HARPER', 'GO-TO', 'BOSCIA', 'EVE LOM',\n",
              "       'MAKEUP ERASER', 'LAURA MERCIER', 'NEOGEN DERMALOGY', 'INDIE LEE',\n",
              "       'KOH GEN DO', 'VOLITION BEAUTY', 'TOO FACED',\n",
              "       'SKIN INC SUPPLEMENT BAR', 'NUFACE', 'KLORANE', 'BEAUTYBIO',\n",
              "       'NARS', 'BLITHE', nan, 'ERNO LASZLO', 'CLARISONIC',\n",
              "       'FENTY BEAUTY BY RIHANNA', 'DERMADOCTOR', 'PEACE OUT', 'BIOEFFECT',\n",
              "       'BECCA', 'COVER FX', 'MOON JUICE', 'PRIVATE DOCTOR',\n",
              "       'HUM NUTRITION', 'FOREO', 'LIGHTSTIM', 'COOLA', 'OMOROVICZA',\n",
              "       'SUMMER FRIDAYS', 'SAND & SKY', 'TOO COOL FOR SCHOOL',\n",
              "       'DR ROEBUCK’S', 'SKIN LAUNDRY', 'ANTHONY',\n",
              "       'ST. TROPEZ TANNING ESSENTIALS', 'NATURALLY SERIOUS',\n",
              "       'WANDER BEAUTY', 'EDIBLE BEAUTY', 'YVES SAINT LAURENT', 'KENZOKI',\n",
              "       'APIVITA', 'ILIA', 'MDSOLARSCIENCES', 'MOROCCANOIL', 'TOM FORD',\n",
              "       'KAPLAN MD', 'CANE + AUSTIN', 'BLACK UP', 'VITA LIBERATA',\n",
              "       'URBAN DECAY', 'DERMAFLASH'], dtype=object)"
            ]
          },
          "metadata": {},
          "execution_count": 11
        }
      ]
    },
    {
      "cell_type": "code",
      "source": [
        "sephora_df[\"name\"].unique()"
      ],
      "metadata": {
        "colab": {
          "base_uri": "https://localhost:8080/"
        },
        "id": "KIpHOKTCT_zz",
        "outputId": "ac21b98e-ca22-4e12-94bd-0a73518d5407"
      },
      "execution_count": 12,
      "outputs": [
        {
          "output_type": "execute_result",
          "data": {
            "text/plain": [
              "array(['Crème de la Mer', 'Facial Treatment Essence',\n",
              "       'Protini™ Polypeptide Cream', ..., 'Self Tan Dry Oil SPF 50',\n",
              "       'Pro Light Self Tan Bronzing Mist',\n",
              "       'DERMAPROTECT Daily Defense Broad Spectrum SPF 50+'], dtype=object)"
            ]
          },
          "metadata": {},
          "execution_count": 12
        }
      ]
    },
    {
      "cell_type": "code",
      "source": [
        "sephora_df[\"price\"].unique()"
      ],
      "metadata": {
        "colab": {
          "base_uri": "https://localhost:8080/"
        },
        "id": "ghG8P_srUEL_",
        "outputId": "fdd6a018-3656-4705-8d4b-1ecd2f86fe1e"
      },
      "execution_count": 13,
      "outputs": [
        {
          "output_type": "execute_result",
          "data": {
            "text/plain": [
              "array(['$175.00', '$179.00\\n($214.00 value)', '$68.00', '$38.00',\n",
              "       '$60.00', '$72.00', '$29.50', '$325.00', '$45.00', '$47.00',\n",
              "       '$105.00', '$58.00', '$90.00\\n($123.00 value)', '$30.00', '$39.00',\n",
              "       '$40.00', '$230.00', '$85.00', '$78.00', '$92.00', '$100.00',\n",
              "       '$34.00', '$28.00', '$240.00', '$48.00', '$54.00', '$25.00',\n",
              "       '$35.00', '$99.00', '$63.00', '$55.00', '$80.00', '$32.00',\n",
              "       '$65.00', '$18.00', '$10.00', '$245.00', '$37.00', '$57.00',\n",
              "       '$120.00', '$44.00', '$52.00', '$42.00', '$110.00', '$49.00',\n",
              "       '$82.00', '$195.00', '$59.00', '$145.00', '$95.00', '$290.00',\n",
              "       '$36.00', '$190.00', '$135.00', '$122.00', '$112.00', '$88.00',\n",
              "       '$29.00', '$229.00', '$84.00', '$127.00', '$205.00', '$75.00',\n",
              "       '$225.00', '$115.00', '$56.00', '$24.00', '$50.00', '$90.00',\n",
              "       '$270.00', '$76.00', '$280.00', '$130.00',\n",
              "       '$69.00\\n($106.00 value)', '$125.00', '$68.00\\n($96.00 value)',\n",
              "       '$94.00', '$140.00', '$4.00', '$108.00', '$165.00', '$160.00',\n",
              "       '$150.00', '$27.00', '$64.00', '$23.00', '$67.00', '$69.00',\n",
              "       '$26.00', '$52.50', '$185.00', '$98.00', '$62.00', '$136.00',\n",
              "       '$7.50', '$20.00', '$23.50', '$19.50', '$11.00', '$79.00',\n",
              "       '$18.50', '$16.00', '$8.00', '$21.00', '$22.50', '$14.00',\n",
              "       '$20.50', '$19.00', '$17.00', '$70.00', '$41.00', '$15.00',\n",
              "       '$46.00', '$16.00 $8.00', '$22.00', '$33.00', '$14.50',\n",
              "       '$45.00\\n($66.00 value)', '$7.00\\n($10.00 value)', '$12.00',\n",
              "       '$7.50 $4.00', '$34.00\\n($63.00 value)', '$9.00', '$73.00',\n",
              "       '$24.50', '$9.50', '$39.00 $27.00', '$55.00\\n($69.00 value)',\n",
              "       '$28.00 $19.00', '$35.00\\n($45.00 value)', '$26.50', nan,\n",
              "       '$158.00\\n($175.00 value)', '$178.00\\n($210.00 value)',\n",
              "       '$88.00\\n($102.00 value)', '$370.00', '$128.00',\n",
              "       '$28.00\\n($43.00 value)', '$23.00\\n($30.00 value)', '$89.00',\n",
              "       '$345.00', '$132.00', '$116.00', '$275.00', '$149.00',\n",
              "       '$68.00\\n($97.00 value)', '$81.00', '$86.00', '$100.00 $59.00',\n",
              "       '$169.00\\n($189.00 value)', '$35.00\\n($71.00 value)', '$118.00',\n",
              "       '$29.00\\n($67.00 value)', '$90.00 $59.00',\n",
              "       '$68.00\\n($72.00 value)', '$55.00\\n($88.00 value)', '$179.00',\n",
              "       '$59.00\\n($93.00 value)', '$61.00', '$84.00\\n($115.00 value)',\n",
              "       '$300.00', '$74.00', '$265.00', '$56.50', '$152.00', '$96.00',\n",
              "       '$75.00\\n($254.00 value)', '$135.00\\n($170.00 value)',\n",
              "       '$36.00\\n($57.00 value)', '$25.00\\n($36.00 value)', '$6.00',\n",
              "       '$250.00', '$18.00\\n($24.00 value)', '$169.00\\n($236.00 value)',\n",
              "       '$5.00', '$170.00', '$34.00 $22.00', '$17.50', '$9.99', '$3.00',\n",
              "       '$69.00 $45.00', '$20.00 $11.00', '$51.00', '$19.99',\n",
              "       '$75.00\\n($94.00 value)', '$35.00\\n($37.50 value)',\n",
              "       '$43.00 $30.00', '$48.00\\n($80.00 value)',\n",
              "       '$39.00\\n($47.00 value)', '$7.00', '$120.00\\n($140.00 value)',\n",
              "       '$46.50', '$215.00', '$32.50', '$255.00', '$66.00', '$77.00',\n",
              "       '$43.00', '$260.00', '$48.00\\n($70.00 value)', '$159.00',\n",
              "       '$200.00', '$139.00', '$75.00 $55.00', '$75.00\\n($115.00 value)',\n",
              "       '$71.00', '$26.50\\n($42.50 value)', '$31.00', '$53.00', '$64.50',\n",
              "       '$28.50', '$100.00 $60.00'], dtype=object)"
            ]
          },
          "metadata": {},
          "execution_count": 13
        }
      ]
    },
    {
      "cell_type": "code",
      "source": [
        "sephora_df[\"rank\"].unique()"
      ],
      "metadata": {
        "colab": {
          "base_uri": "https://localhost:8080/"
        },
        "id": "dZWmoKkAUIXs",
        "outputId": "519a2792-7c8d-4034-d334-dd9b9ad6f1a0"
      },
      "execution_count": 14,
      "outputs": [
        {
          "output_type": "execute_result",
          "data": {
            "text/plain": [
              "array([4.1, 4.4, 3.8, 4.2, 5. , 4.3, 4.5, 4.6, 3.9, 4. , 3.7, 4.8, 4.7,\n",
              "       nan, 3.3, 3.6, 3.5, 4.9, 3.4, 0. , 2.8, 2. , 3.1, 2.6, 3. , 3.2,\n",
              "       1. , 2.9, 2.7, 1.8])"
            ]
          },
          "metadata": {},
          "execution_count": 14
        }
      ]
    },
    {
      "cell_type": "code",
      "source": [
        "sephora_df[\"skin_type\"].unique()"
      ],
      "metadata": {
        "colab": {
          "base_uri": "https://localhost:8080/"
        },
        "id": "PgiqG_b_UKta",
        "outputId": "df5831e7-2bcc-4f31-d03e-6eb387b9dcdf"
      },
      "execution_count": 15,
      "outputs": [
        {
          "output_type": "execute_result",
          "data": {
            "text/plain": [
              "array([\"['✔ Normal\\\\n', '✔ Oily\\\\n', '✔ Combination\\\\n', '✔ Dry\\\\n', '✔ Sensitive\\\\n']\",\n",
              "       \"['✔ Normal\\\\n', '✔ Oily\\\\n', '✔ Combination\\\\n', '✔ Dry\\\\n']\",\n",
              "       \"['✔ Full\\\\n', '✔ Sensitive\\\\n', '✔ Normal\\\\n', '✔ Dry\\\\n', '✔ Combination\\\\n', '✔ Oily\\\\n', '✔ Natural\\\\n']\",\n",
              "       \"['✔ Normal\\\\n', '✔ Oily\\\\n', '✔ Combination\\\\n', '✔ Sensitive\\\\n']\",\n",
              "       '[]', \"['✔ Normal\\\\n', '✔ Oily\\\\n', '✔ Combination\\\\n']\",\n",
              "       \"['✔ Normal\\\\n', '✔ Dry\\\\n', '✔ Sensitive\\\\n']\",\n",
              "       \"['✔ Normal\\\\n', '✔ Combination\\\\n', '✔ Dry\\\\n']\",\n",
              "       \"['✔ Normal\\\\n', '✔ Dry\\\\n']\", \"['✔ Combination\\\\n', '✔ Dry\\\\n']\",\n",
              "       \"['✔ Oily\\\\n', '✔ Dry\\\\n', '✔ Sensitive\\\\n']\",\n",
              "       \"['✔ Full\\\\n', '✔ Normal\\\\n', '✔ Dry\\\\n', '✔ Combination\\\\n', '✔ Oily\\\\n', '✔ Matte\\\\n']\",\n",
              "       \"['✔ Normal\\\\n', '✔ Combination\\\\n', '✔ Dry\\\\n', '✔ Sensitive\\\\n']\",\n",
              "       \"['✔ Oily\\\\n', '✔ Combination\\\\n']\",\n",
              "       \"['✔ Medium\\\\n', '✔ Normal\\\\n', '✔ Dry\\\\n', '✔ Combination\\\\n', '✔ Oily\\\\n', '✔ Matte\\\\n']\",\n",
              "       \"['✔ Full\\\\n', '✔ Sensitive\\\\n', '✔ Normal\\\\n', '✔ Dry\\\\n', '✔ Combination\\\\n', '✔ Oily\\\\n', '✔ Radiant\\\\n']\",\n",
              "       \"['✔ Normal\\\\n', '✔ Combination\\\\n', '✔ Oily\\\\n', '✔ Dry\\\\n', '✔ Sensitive\\\\n']\",\n",
              "       \"['✔ Normal\\\\n', '✔ Oily\\\\n']\", \"['✔ Dry\\\\n', '✔ Sensitive\\\\n']\",\n",
              "       \"['✔ Normal\\\\n', '✔ Oily\\\\n', '✔ Dry\\\\n']\",\n",
              "       \"['✔ Light\\\\n', '✔ Normal\\\\n', '✔ Combination\\\\n', '✔ Oily\\\\n', '✔ Matte\\\\n']\",\n",
              "       \"['✔ Normal\\\\n', '✔ Combination\\\\n']\",\n",
              "       \"['✔ Light\\\\n', '✔ Sensitive\\\\n', '✔ Normal\\\\n', '✔ Dry\\\\n', '✔ Combination\\\\n', '✔ Oily\\\\n']\",\n",
              "       \"['✔ Oily\\\\n', '✔ Combination\\\\n', '✔ Dry\\\\n', '✔ Sensitive\\\\n']\",\n",
              "       \"['✔ Normal\\\\n', '✔ Combination\\\\n', '✔ Sensitive\\\\n']\",\n",
              "       \"['✔ Light\\\\n', '✔ Sensitive\\\\n', '✔ Normal\\\\n', '✔ Dry\\\\n', '✔ Combination\\\\n', '✔ Oily\\\\n', '✔ Natural\\\\n']\",\n",
              "       \"['✔ Normal\\\\n', '✔ Sensitive\\\\n']\", \"['✔ Dry\\\\n']\",\n",
              "       \"['✔ Oily\\\\n', '✔ Combination\\\\n', '✔ Sensitive\\\\n']\",\n",
              "       \"['✔ Oily\\\\n', '✔ Sensitive\\\\n']\", nan, \"['✔ Sensitive\\\\n']\",\n",
              "       \"['✔ Combination\\\\n', '✔ Dry\\\\n', '✔ Sensitive\\\\n']\",\n",
              "       \"['✔ Light\\\\n', '✔ Sensitive\\\\n', '✔ Normal\\\\n', '✔ Dry\\\\n', '✔ Combination\\\\n', '✔ Oily\\\\n', '✔ Matte\\\\n']\",\n",
              "       \"['✔ Normal\\\\n', '✔ Combination\\\\n', '✔ Oily\\\\n', '✔ Dry\\\\n']\",\n",
              "       \"['✔ Dry\\\\n', '✔ Normal\\\\n', '✔ Combination\\\\n']\",\n",
              "       \"['✔ Light\\\\n', '✔ Sensitive\\\\n', '✔ Normal\\\\n', '✔ Dry\\\\n', '✔ Combination\\\\n', '✔ Oily\\\\n', '✔ Radiant\\\\n']\",\n",
              "       \"['✔ Light\\\\n', '✔ Sensitive\\\\n', '✔ Normal\\\\n', '✔ Combination\\\\n', '✔ Radiant\\\\n']\"],\n",
              "      dtype=object)"
            ]
          },
          "metadata": {},
          "execution_count": 15
        }
      ]
    },
    {
      "cell_type": "code",
      "source": [
        "sephora_df[\"ingredients\"].unique()\n",
        "#split method for separation"
      ],
      "metadata": {
        "colab": {
          "base_uri": "https://localhost:8080/"
        },
        "id": "tYGnCJuwUOIb",
        "outputId": "ae2883f9-8c82-4ad7-fcd2-fd8bf2b903ea"
      },
      "execution_count": 16,
      "outputs": [
        {
          "output_type": "execute_result",
          "data": {
            "text/plain": [
              "array(['Algae (Seaweed) Extract, Mineral Oil, Petrolatum, Glycerin, Isohexadecane, Microcrystalline Wax, Lanolin Alcohol, Citrus Aurantifolia (Lime) Extract, Sesamum Indicum (Sesame) Seed Oil, Eucalyptus Globulus (Eucalyptus) Leaf Oil, Sesamum Indicum (Sesame) Seed Powder, Medicago Sativa (Alfalfa) Seed Powder, Helianthus Annuus (Sunflower) Seedcake, Prunus Amygdalus Dulcis (Sweet Almond) Seed Meal, Sodium Gluconate, Copper Gluconate, Calcium Gluconate, Magnesium Gluconate, Zinc Gluconate, Magnesium Sulfate, Paraffin, Tocopheryl Succinate, Niacin, Water, Beta-Carotene, Decyl Oleate, Aluminum Distearate, Octyldodecanol, Citric Acid, Cyanocobalamin, Magnesium Stearate, Panthenol, Limonene, Geraniol, Linalool, Hydroxycitronellal, Citronellol, Benzyl Salicylate, Citral, Sodium Benzoate, Alcohol Denat., Fragrance.\\n\\nPlease be aware that ingredient lists may change or vary from time to time. Please refer to the ingredient list on the product package you receive for the most up to date list of ingredients.',\n",
              "       '-Pitera™: A bio-ingredient rich in vitamins, organic acids, minerals, and amino acids that work together to support skin’s natural cell renewal process.\\n\\nGalactomyces Ferment Filtrate (Pitera), Butylene Glycol, Pentylene Glycol, Water, Sodium Benzoate, Methylparaben, Sorbic Acid.',\n",
              "       '-9 Signal Peptide Complex \\n-Pygmy Waterlily Stem Cell Extract \\n-Soybean Folic Acid Ferment Extract \\n\\nWater, Dicaprylyl Carbonate, Glycerin, Cetearyl Alcohol, Cetearyl Olivate, Sorbitan Olivate, Sclerocarya Birrea Seed Oil, Bacillus/Soybean/ Folic Acid Ferment Extract, Nymphaea Alba Root Extract, sh-Oligopeptide-1, sh-Oligopeptide-2, sh-Polypeptide-1, sh-Polypeptide-9, sh-Polypeptide-11, Copper Palmitoyl Heptapeptide-14, Heptapeptide-15 Palmitate, Palmitoyl Tetrapeptide-7, Palmitoyl Tripeptide-1, Alanine, Arginine, Glycine, Histidine, Isoleucine, Phenylalanine, Proline, Serine, Threonine, Valine, Acetyl Glutamine, Coconut Alkanes , Coco-Caprylate/Caprate, Sodium Hyaluronate, Aspartic Acid, Linoleic Acid, Linolenic Acid, Lecithin, Butylene Glycol, Polyvinyl Alcohol, Sodium Lactate, Sodium PCA, PCA, Sorbitan Isostearate, Carbomer, Polysorbate 20, Polysorbate 60, Lactic Acid/Glycolic Acid Copolymer, Hydroxyethyl Acrylate/Sodium Acryloyldimethyl Taurate Copolymer, Xanthan Gum, Isomalt, 1,2-Hexanediol, Caprylyl Glycol, Chlorphenesin, Phenoxyethanol, Tocopherol, Sodium Benzoate, Phenylpropanol, Glyceryl Caprylate, Symphytum Officinale Callus Culture Extract.',\n",
              "       ...,\n",
              "       '-Dihydroxyacetone\\n-Octocrylene\\n-Marula\\n-Octinoxate\\n-Octocrylene 9%, Octinoxate 6.8%, and Avobenzone 3%: Sunscreen.\\n\\nWater, Dihydroxyacetone, Glycerin, Sclerocarya Birrea Seed Oil, Mica, Cymbopogon flexuosus (Lemongrass) oil, Cucumis Sativus (Cucumber) Extract, Citrus aurantium amara (Bitter orange) flower oil, Dimethyl isosorbide, Sodium Benzoate, Potassium Sorbate, Caramel, Tin oxide, CI 77491 (Iron oxides), Cocos Nucifera (Coconut) Oil, Gardenia Taitensis Flower Extract, Sorbitol, Sodium Citrate, Silica.',\n",
              "       '-Dihydroxyacetone (DHA)\\n-Vitamin E\\n\\nWater, Dihydroxyacetone, Propylene Glycol, PPG-5-Ceteth-20, Glycerin, Ethoxydiglycol, Caramel, Phenoxyethanol, PEG-12 Dimethicone, Parfum (Fragrance), Sodium Metabisulfite, Tocopherol, Ethylhexylglycerin, Linalool, Alpha-isomethyl Ionone, CI 14700 (Red 4), CI 19140 (Yellow 5), CI 42090 (Blue 1).',\n",
              "       'Visit the DERMAFLASH boutique'], dtype=object)"
            ]
          },
          "metadata": {},
          "execution_count": 16
        }
      ]
    }
  ]
}